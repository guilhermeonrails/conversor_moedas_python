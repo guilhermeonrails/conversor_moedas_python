{
  "nbformat": 4,
  "nbformat_minor": 0,
  "metadata": {
    "colab": {
      "name": "Imersão com Python.ipynb",
      "provenance": [],
      "collapsed_sections": []
    },
    "kernelspec": {
      "name": "python3",
      "display_name": "Python 3"
    },
    "language_info": {
      "name": "python"
    }
  },
  "cells": [
    {
      "cell_type": "code",
      "metadata": {
        "colab": {
          "base_uri": "https://localhost:8080/",
          "height": 52
        },
        "id": "3h5BKG2IizUf",
        "outputId": "757dadda-92f8-45c8-daee-e73387eecef2"
      },
      "source": [
        "valor_em_dolar_texto = input('Digite o valor em dolar')\n",
        "valor_em_dolar_texto"
      ],
      "execution_count": 4,
      "outputs": [
        {
          "output_type": "stream",
          "text": [
            "Digite o valor em dolar10\n"
          ],
          "name": "stdout"
        },
        {
          "output_type": "execute_result",
          "data": {
            "application/vnd.google.colaboratory.intrinsic+json": {
              "type": "string"
            },
            "text/plain": [
              "'10'"
            ]
          },
          "metadata": {
            "tags": []
          },
          "execution_count": 4
        }
      ]
    },
    {
      "cell_type": "code",
      "metadata": {
        "colab": {
          "base_uri": "https://localhost:8080/"
        },
        "id": "kP818trgjSac",
        "outputId": "45b2dfe3-0009-482e-a229-20c60ba7bbe0"
      },
      "source": [
        "type(valor_em_dolar_texto)"
      ],
      "execution_count": 5,
      "outputs": [
        {
          "output_type": "execute_result",
          "data": {
            "text/plain": [
              "str"
            ]
          },
          "metadata": {
            "tags": []
          },
          "execution_count": 5
        }
      ]
    },
    {
      "cell_type": "code",
      "metadata": {
        "colab": {
          "base_uri": "https://localhost:8080/"
        },
        "id": "SZTg12-vjkAz",
        "outputId": "77dd78fd-3e52-492d-8641-bda3f0f958da"
      },
      "source": [
        "valor_em_dolar_numerico = float(valor_em_dolar_texto)\n",
        "type(valor_em_dolar_numerico)"
      ],
      "execution_count": 7,
      "outputs": [
        {
          "output_type": "execute_result",
          "data": {
            "text/plain": [
              "float"
            ]
          },
          "metadata": {
            "tags": []
          },
          "execution_count": 7
        }
      ]
    },
    {
      "cell_type": "code",
      "metadata": {
        "colab": {
          "base_uri": "https://localhost:8080/"
        },
        "id": "5xHpWCNHjtov",
        "outputId": "38cdb8ed-5aa1-4a29-a85f-6df43075f0f0"
      },
      "source": [
        "valor_em_real = valor_em_dolar_numerico * 5.51\n",
        "valor_em_real"
      ],
      "execution_count": 9,
      "outputs": [
        {
          "output_type": "execute_result",
          "data": {
            "text/plain": [
              "55.099999999999994"
            ]
          },
          "metadata": {
            "tags": []
          },
          "execution_count": 9
        }
      ]
    },
    {
      "cell_type": "code",
      "metadata": {
        "colab": {
          "base_uri": "https://localhost:8080/"
        },
        "id": "vDb_hm5nkFTR",
        "outputId": "30d93392-75e9-4be4-f5f1-588538534b0b"
      },
      "source": [
        "valor_em_real_fixado = round(valor_em_real,2)\n",
        "valor_em_real_fixado"
      ],
      "execution_count": 11,
      "outputs": [
        {
          "output_type": "execute_result",
          "data": {
            "text/plain": [
              "55.1"
            ]
          },
          "metadata": {
            "tags": []
          },
          "execution_count": 11
        }
      ]
    },
    {
      "cell_type": "markdown",
      "metadata": {
        "id": "UxTAWRxEYUNZ"
      },
      "source": [
        "# Código completo Python\n"
      ]
    },
    {
      "cell_type": "code",
      "metadata": {
        "colab": {
          "base_uri": "https://localhost:8080/"
        },
        "id": "sFmoiINkk9jK",
        "outputId": "139d3549-3bb8-4ff0-f098-1ba3be6004ca"
      },
      "source": [
        "valor_em_dolar_texto = input('Digite o valor em dolar')\n",
        "valor_em_dolar_numerico = float(valor_em_dolar_texto)\n",
        "valor_em_real = valor_em_dolar_numerico * 5.51\n",
        "valor_em_real_fixado = round(valor_em_real,2)\n",
        "valor_em_real_fixado"
      ],
      "execution_count": 1,
      "outputs": [
        {
          "output_type": "stream",
          "text": [
            "Digite o valor em dolar10\n"
          ],
          "name": "stdout"
        },
        {
          "output_type": "execute_result",
          "data": {
            "text/plain": [
              "55.1"
            ]
          },
          "metadata": {
            "tags": []
          },
          "execution_count": 1
        }
      ]
    },
    {
      "cell_type": "code",
      "metadata": {
        "id": "a1ZJOleNYPSC"
      },
      "source": [
        ""
      ],
      "execution_count": null,
      "outputs": []
    },
    {
      "cell_type": "markdown",
      "metadata": {
        "id": "EhlLb-lHYiJU"
      },
      "source": [
        "# Código completo JS\n",
        "\n",
        "``` \n",
        "var valorEmDolarTexto = prompt(\"Qual o valor em dolar que você quer converter?\")\n",
        "\n",
        "var valorEmDolarNumero = parseFloat(valorEmDolarTexto)\n",
        "\n",
        "var valorEmReal = valorEmDolarNumero * 5.51\n",
        "var valorEmRealFixado = valorEmReal.toFixed(2)\n",
        "\n",
        "alert(valorEmRealFixado)\n",
        "```"
      ]
    }
  ]
}